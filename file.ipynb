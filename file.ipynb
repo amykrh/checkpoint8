{
 "cells": [
  {
   "cell_type": "code",
   "execution_count": 27,
   "id": "329dac2c",
   "metadata": {},
   "outputs": [],
   "source": [
    "f=open(\"python.txt\",'r')\n",
    "#f.read()"
   ]
  },
  {
   "cell_type": "code",
   "execution_count": 31,
   "id": "82424aa2",
   "metadata": {},
   "outputs": [
    {
     "name": "stdout",
     "output_type": "stream",
     "text": [
      "numbers of lines you wanna read4\n"
     ]
    },
    {
     "data": {
      "text/plain": [
       "['Python is a widely used high-level, general-purpose, interpreted, dynamic programming language.Its design philosophy emphasizes code readability, and its syntax allows programmers to express concepts in fewer lines of code than possible in \\n']"
      ]
     },
     "execution_count": 31,
     "metadata": {},
     "output_type": "execute_result"
    }
   ],
   "source": [
    "n=int(input(\"numbers of lines you wanna read\"))\n",
    "f.readlines(n)"
   ]
  },
  {
   "cell_type": "code",
   "execution_count": 36,
   "id": "a90e9b4e",
   "metadata": {},
   "outputs": [
    {
     "data": {
      "text/plain": [
       "['languages such as C++ or Java. \\n',\n",
       " 'Python supports multiple programming paradigms, including object-oriented, imperative and functional programming or procedural styles. It features a dynamic type system and automatic memory management and has a large and comprehensive standard library.The best way we learn anything is by practice and exercise questions. We  have started this section for those (beginner to intermediate) who are familiar with Python.']"
      ]
     },
     "execution_count": 36,
     "metadata": {},
     "output_type": "execute_result"
    }
   ],
   "source": [
    "f.readlines(-1)"
   ]
  },
  {
   "cell_type": "code",
   "execution_count": 44,
   "id": "07d6056b",
   "metadata": {},
   "outputs": [
    {
     "name": "stdout",
     "output_type": "stream",
     "text": [
      "0\n"
     ]
    }
   ],
   "source": [
    "x=0\n"
   ]
  },
  {
   "cell_type": "code",
   "execution_count": 3,
   "id": "0e618765",
   "metadata": {},
   "outputs": [
    {
     "name": "stdout",
     "output_type": "stream",
     "text": [
      "148\n"
     ]
    }
   ],
   "source": [
    "def count_words(filepath):\n",
    "   with open(filepath) as f:\n",
    "       data = f.read()\n",
    "       data.replace(\",\", \" \")\n",
    "       return len(data.split(\" \"))\n",
    "print(count_words(\"python.txt\"))"
   ]
  },
  {
   "cell_type": "code",
   "execution_count": null,
   "id": "62050cf9",
   "metadata": {},
   "outputs": [],
   "source": []
  }
 ],
 "metadata": {
  "kernelspec": {
   "display_name": "Python 3 (ipykernel)",
   "language": "python",
   "name": "python3"
  },
  "language_info": {
   "codemirror_mode": {
    "name": "ipython",
    "version": 3
   },
   "file_extension": ".py",
   "mimetype": "text/x-python",
   "name": "python",
   "nbconvert_exporter": "python",
   "pygments_lexer": "ipython3",
   "version": "3.9.7"
  }
 },
 "nbformat": 4,
 "nbformat_minor": 5
}
